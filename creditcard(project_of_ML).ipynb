{
  "nbformat": 4,
  "nbformat_minor": 0,
  "metadata": {
    "colab": {
      "name": "creditcard(project of ML).ipynb",
      "provenance": [],
      "collapsed_sections": []
    },
    "kernelspec": {
      "name": "python3",
      "display_name": "Python 3"
    },
    "language_info": {
      "name": "python"
    }
  },
  "cells": [
    {
      "cell_type": "markdown",
      "source": [
        "#Credit Card Fraud Detection Analysis"
      ],
      "metadata": {
        "id": "R2kQu1Yzp6cr"
      }
    },
    {
      "cell_type": "markdown",
      "source": [
        "#Importing the Dependencies"
      ],
      "metadata": {
        "id": "CZyM4r2DoKLM"
      }
    },
    {
      "cell_type": "code",
      "execution_count": null,
      "metadata": {
        "id": "3obOrpdvzkCv"
      },
      "outputs": [],
      "source": [
        "#importing libraries\n",
        "import numpy as np \n",
        "import pandas as pd\n",
        "import matplotlib.pyplot as plt\n",
        "import seaborn as sns \n",
        "import warnings\n",
        "warnings.filterwarnings(\"ignore\")"
      ]
    },
    {
      "cell_type": "code",
      "source": [
        "#to load dataset \n",
        "df=pd.read_csv('/content/drive/MyDrive/ML/creditcard.csv.csv')\n",
        "#to display first 5 records \n",
        "df.head()"
      ],
      "metadata": {
        "colab": {
          "base_uri": "https://localhost:8080/",
          "height": 300
        },
        "id": "IBEsfZm50AD1",
        "outputId": "876c48f6-365c-460c-d17d-575e20ac19dc"
      },
      "execution_count": null,
      "outputs": [
        {
          "output_type": "execute_result",
          "data": {
            "text/plain": [
              "   Time        V1        V2        V3        V4        V5        V6        V7  \\\n",
              "0   0.0 -1.359807 -0.072781  2.536347  1.378155 -0.338321  0.462388  0.239599   \n",
              "1   0.0  1.191857  0.266151  0.166480  0.448154  0.060018 -0.082361 -0.078803   \n",
              "2   1.0 -1.358354 -1.340163  1.773209  0.379780 -0.503198  1.800499  0.791461   \n",
              "3   1.0 -0.966272 -0.185226  1.792993 -0.863291 -0.010309  1.247203  0.237609   \n",
              "4   2.0 -1.158233  0.877737  1.548718  0.403034 -0.407193  0.095921  0.592941   \n",
              "\n",
              "         V8        V9  ...       V21       V22       V23       V24       V25  \\\n",
              "0  0.098698  0.363787  ... -0.018307  0.277838 -0.110474  0.066928  0.128539   \n",
              "1  0.085102 -0.255425  ... -0.225775 -0.638672  0.101288 -0.339846  0.167170   \n",
              "2  0.247676 -1.514654  ...  0.247998  0.771679  0.909412 -0.689281 -0.327642   \n",
              "3  0.377436 -1.387024  ... -0.108300  0.005274 -0.190321 -1.175575  0.647376   \n",
              "4 -0.270533  0.817739  ... -0.009431  0.798278 -0.137458  0.141267 -0.206010   \n",
              "\n",
              "        V26       V27       V28  Amount  Class  \n",
              "0 -0.189115  0.133558 -0.021053  149.62      0  \n",
              "1  0.125895 -0.008983  0.014724    2.69      0  \n",
              "2 -0.139097 -0.055353 -0.059752  378.66      0  \n",
              "3 -0.221929  0.062723  0.061458  123.50      0  \n",
              "4  0.502292  0.219422  0.215153   69.99      0  \n",
              "\n",
              "[5 rows x 31 columns]"
            ],
            "text/html": [
              "\n",
              "  <div id=\"df-532a3cf1-91e0-4d02-aa63-fbc5deec9822\">\n",
              "    <div class=\"colab-df-container\">\n",
              "      <div>\n",
              "<style scoped>\n",
              "    .dataframe tbody tr th:only-of-type {\n",
              "        vertical-align: middle;\n",
              "    }\n",
              "\n",
              "    .dataframe tbody tr th {\n",
              "        vertical-align: top;\n",
              "    }\n",
              "\n",
              "    .dataframe thead th {\n",
              "        text-align: right;\n",
              "    }\n",
              "</style>\n",
              "<table border=\"1\" class=\"dataframe\">\n",
              "  <thead>\n",
              "    <tr style=\"text-align: right;\">\n",
              "      <th></th>\n",
              "      <th>Time</th>\n",
              "      <th>V1</th>\n",
              "      <th>V2</th>\n",
              "      <th>V3</th>\n",
              "      <th>V4</th>\n",
              "      <th>V5</th>\n",
              "      <th>V6</th>\n",
              "      <th>V7</th>\n",
              "      <th>V8</th>\n",
              "      <th>V9</th>\n",
              "      <th>...</th>\n",
              "      <th>V21</th>\n",
              "      <th>V22</th>\n",
              "      <th>V23</th>\n",
              "      <th>V24</th>\n",
              "      <th>V25</th>\n",
              "      <th>V26</th>\n",
              "      <th>V27</th>\n",
              "      <th>V28</th>\n",
              "      <th>Amount</th>\n",
              "      <th>Class</th>\n",
              "    </tr>\n",
              "  </thead>\n",
              "  <tbody>\n",
              "    <tr>\n",
              "      <th>0</th>\n",
              "      <td>0.0</td>\n",
              "      <td>-1.359807</td>\n",
              "      <td>-0.072781</td>\n",
              "      <td>2.536347</td>\n",
              "      <td>1.378155</td>\n",
              "      <td>-0.338321</td>\n",
              "      <td>0.462388</td>\n",
              "      <td>0.239599</td>\n",
              "      <td>0.098698</td>\n",
              "      <td>0.363787</td>\n",
              "      <td>...</td>\n",
              "      <td>-0.018307</td>\n",
              "      <td>0.277838</td>\n",
              "      <td>-0.110474</td>\n",
              "      <td>0.066928</td>\n",
              "      <td>0.128539</td>\n",
              "      <td>-0.189115</td>\n",
              "      <td>0.133558</td>\n",
              "      <td>-0.021053</td>\n",
              "      <td>149.62</td>\n",
              "      <td>0</td>\n",
              "    </tr>\n",
              "    <tr>\n",
              "      <th>1</th>\n",
              "      <td>0.0</td>\n",
              "      <td>1.191857</td>\n",
              "      <td>0.266151</td>\n",
              "      <td>0.166480</td>\n",
              "      <td>0.448154</td>\n",
              "      <td>0.060018</td>\n",
              "      <td>-0.082361</td>\n",
              "      <td>-0.078803</td>\n",
              "      <td>0.085102</td>\n",
              "      <td>-0.255425</td>\n",
              "      <td>...</td>\n",
              "      <td>-0.225775</td>\n",
              "      <td>-0.638672</td>\n",
              "      <td>0.101288</td>\n",
              "      <td>-0.339846</td>\n",
              "      <td>0.167170</td>\n",
              "      <td>0.125895</td>\n",
              "      <td>-0.008983</td>\n",
              "      <td>0.014724</td>\n",
              "      <td>2.69</td>\n",
              "      <td>0</td>\n",
              "    </tr>\n",
              "    <tr>\n",
              "      <th>2</th>\n",
              "      <td>1.0</td>\n",
              "      <td>-1.358354</td>\n",
              "      <td>-1.340163</td>\n",
              "      <td>1.773209</td>\n",
              "      <td>0.379780</td>\n",
              "      <td>-0.503198</td>\n",
              "      <td>1.800499</td>\n",
              "      <td>0.791461</td>\n",
              "      <td>0.247676</td>\n",
              "      <td>-1.514654</td>\n",
              "      <td>...</td>\n",
              "      <td>0.247998</td>\n",
              "      <td>0.771679</td>\n",
              "      <td>0.909412</td>\n",
              "      <td>-0.689281</td>\n",
              "      <td>-0.327642</td>\n",
              "      <td>-0.139097</td>\n",
              "      <td>-0.055353</td>\n",
              "      <td>-0.059752</td>\n",
              "      <td>378.66</td>\n",
              "      <td>0</td>\n",
              "    </tr>\n",
              "    <tr>\n",
              "      <th>3</th>\n",
              "      <td>1.0</td>\n",
              "      <td>-0.966272</td>\n",
              "      <td>-0.185226</td>\n",
              "      <td>1.792993</td>\n",
              "      <td>-0.863291</td>\n",
              "      <td>-0.010309</td>\n",
              "      <td>1.247203</td>\n",
              "      <td>0.237609</td>\n",
              "      <td>0.377436</td>\n",
              "      <td>-1.387024</td>\n",
              "      <td>...</td>\n",
              "      <td>-0.108300</td>\n",
              "      <td>0.005274</td>\n",
              "      <td>-0.190321</td>\n",
              "      <td>-1.175575</td>\n",
              "      <td>0.647376</td>\n",
              "      <td>-0.221929</td>\n",
              "      <td>0.062723</td>\n",
              "      <td>0.061458</td>\n",
              "      <td>123.50</td>\n",
              "      <td>0</td>\n",
              "    </tr>\n",
              "    <tr>\n",
              "      <th>4</th>\n",
              "      <td>2.0</td>\n",
              "      <td>-1.158233</td>\n",
              "      <td>0.877737</td>\n",
              "      <td>1.548718</td>\n",
              "      <td>0.403034</td>\n",
              "      <td>-0.407193</td>\n",
              "      <td>0.095921</td>\n",
              "      <td>0.592941</td>\n",
              "      <td>-0.270533</td>\n",
              "      <td>0.817739</td>\n",
              "      <td>...</td>\n",
              "      <td>-0.009431</td>\n",
              "      <td>0.798278</td>\n",
              "      <td>-0.137458</td>\n",
              "      <td>0.141267</td>\n",
              "      <td>-0.206010</td>\n",
              "      <td>0.502292</td>\n",
              "      <td>0.219422</td>\n",
              "      <td>0.215153</td>\n",
              "      <td>69.99</td>\n",
              "      <td>0</td>\n",
              "    </tr>\n",
              "  </tbody>\n",
              "</table>\n",
              "<p>5 rows × 31 columns</p>\n",
              "</div>\n",
              "      <button class=\"colab-df-convert\" onclick=\"convertToInteractive('df-532a3cf1-91e0-4d02-aa63-fbc5deec9822')\"\n",
              "              title=\"Convert this dataframe to an interactive table.\"\n",
              "              style=\"display:none;\">\n",
              "        \n",
              "  <svg xmlns=\"http://www.w3.org/2000/svg\" height=\"24px\"viewBox=\"0 0 24 24\"\n",
              "       width=\"24px\">\n",
              "    <path d=\"M0 0h24v24H0V0z\" fill=\"none\"/>\n",
              "    <path d=\"M18.56 5.44l.94 2.06.94-2.06 2.06-.94-2.06-.94-.94-2.06-.94 2.06-2.06.94zm-11 1L8.5 8.5l.94-2.06 2.06-.94-2.06-.94L8.5 2.5l-.94 2.06-2.06.94zm10 10l.94 2.06.94-2.06 2.06-.94-2.06-.94-.94-2.06-.94 2.06-2.06.94z\"/><path d=\"M17.41 7.96l-1.37-1.37c-.4-.4-.92-.59-1.43-.59-.52 0-1.04.2-1.43.59L10.3 9.45l-7.72 7.72c-.78.78-.78 2.05 0 2.83L4 21.41c.39.39.9.59 1.41.59.51 0 1.02-.2 1.41-.59l7.78-7.78 2.81-2.81c.8-.78.8-2.07 0-2.86zM5.41 20L4 18.59l7.72-7.72 1.47 1.35L5.41 20z\"/>\n",
              "  </svg>\n",
              "      </button>\n",
              "      \n",
              "  <style>\n",
              "    .colab-df-container {\n",
              "      display:flex;\n",
              "      flex-wrap:wrap;\n",
              "      gap: 12px;\n",
              "    }\n",
              "\n",
              "    .colab-df-convert {\n",
              "      background-color: #E8F0FE;\n",
              "      border: none;\n",
              "      border-radius: 50%;\n",
              "      cursor: pointer;\n",
              "      display: none;\n",
              "      fill: #1967D2;\n",
              "      height: 32px;\n",
              "      padding: 0 0 0 0;\n",
              "      width: 32px;\n",
              "    }\n",
              "\n",
              "    .colab-df-convert:hover {\n",
              "      background-color: #E2EBFA;\n",
              "      box-shadow: 0px 1px 2px rgba(60, 64, 67, 0.3), 0px 1px 3px 1px rgba(60, 64, 67, 0.15);\n",
              "      fill: #174EA6;\n",
              "    }\n",
              "\n",
              "    [theme=dark] .colab-df-convert {\n",
              "      background-color: #3B4455;\n",
              "      fill: #D2E3FC;\n",
              "    }\n",
              "\n",
              "    [theme=dark] .colab-df-convert:hover {\n",
              "      background-color: #434B5C;\n",
              "      box-shadow: 0px 1px 3px 1px rgba(0, 0, 0, 0.15);\n",
              "      filter: drop-shadow(0px 1px 2px rgba(0, 0, 0, 0.3));\n",
              "      fill: #FFFFFF;\n",
              "    }\n",
              "  </style>\n",
              "\n",
              "      <script>\n",
              "        const buttonEl =\n",
              "          document.querySelector('#df-532a3cf1-91e0-4d02-aa63-fbc5deec9822 button.colab-df-convert');\n",
              "        buttonEl.style.display =\n",
              "          google.colab.kernel.accessAllowed ? 'block' : 'none';\n",
              "\n",
              "        async function convertToInteractive(key) {\n",
              "          const element = document.querySelector('#df-532a3cf1-91e0-4d02-aa63-fbc5deec9822');\n",
              "          const dataTable =\n",
              "            await google.colab.kernel.invokeFunction('convertToInteractive',\n",
              "                                                     [key], {});\n",
              "          if (!dataTable) return;\n",
              "\n",
              "          const docLinkHtml = 'Like what you see? Visit the ' +\n",
              "            '<a target=\"_blank\" href=https://colab.research.google.com/notebooks/data_table.ipynb>data table notebook</a>'\n",
              "            + ' to learn more about interactive tables.';\n",
              "          element.innerHTML = '';\n",
              "          dataTable['output_type'] = 'display_data';\n",
              "          await google.colab.output.renderOutput(dataTable, element);\n",
              "          const docLink = document.createElement('div');\n",
              "          docLink.innerHTML = docLinkHtml;\n",
              "          element.appendChild(docLink);\n",
              "        }\n",
              "      </script>\n",
              "    </div>\n",
              "  </div>\n",
              "  "
            ]
          },
          "metadata": {},
          "execution_count": 2
        }
      ]
    },
    {
      "cell_type": "code",
      "source": [
        "df.shape"
      ],
      "metadata": {
        "colab": {
          "base_uri": "https://localhost:8080/"
        },
        "id": "1l4AgwUT0Ln9",
        "outputId": "9da215e9-2927-4232-f160-ef8856582dea"
      },
      "execution_count": null,
      "outputs": [
        {
          "output_type": "execute_result",
          "data": {
            "text/plain": [
              "(284807, 31)"
            ]
          },
          "metadata": {},
          "execution_count": 3
        }
      ]
    },
    {
      "cell_type": "code",
      "source": [
        "df.info()"
      ],
      "metadata": {
        "colab": {
          "base_uri": "https://localhost:8080/"
        },
        "id": "aHFA9ma50u8U",
        "outputId": "eb80dda2-22fc-497a-f754-26a31d0bf913"
      },
      "execution_count": null,
      "outputs": [
        {
          "output_type": "stream",
          "name": "stdout",
          "text": [
            "<class 'pandas.core.frame.DataFrame'>\n",
            "RangeIndex: 284807 entries, 0 to 284806\n",
            "Data columns (total 31 columns):\n",
            " #   Column  Non-Null Count   Dtype  \n",
            "---  ------  --------------   -----  \n",
            " 0   Time    284807 non-null  float64\n",
            " 1   V1      284807 non-null  float64\n",
            " 2   V2      284807 non-null  float64\n",
            " 3   V3      284807 non-null  float64\n",
            " 4   V4      284807 non-null  float64\n",
            " 5   V5      284807 non-null  float64\n",
            " 6   V6      284807 non-null  float64\n",
            " 7   V7      284807 non-null  float64\n",
            " 8   V8      284807 non-null  float64\n",
            " 9   V9      284807 non-null  float64\n",
            " 10  V10     284807 non-null  float64\n",
            " 11  V11     284807 non-null  float64\n",
            " 12  V12     284807 non-null  float64\n",
            " 13  V13     284807 non-null  float64\n",
            " 14  V14     284807 non-null  float64\n",
            " 15  V15     284807 non-null  float64\n",
            " 16  V16     284807 non-null  float64\n",
            " 17  V17     284807 non-null  float64\n",
            " 18  V18     284807 non-null  float64\n",
            " 19  V19     284807 non-null  float64\n",
            " 20  V20     284807 non-null  float64\n",
            " 21  V21     284807 non-null  float64\n",
            " 22  V22     284807 non-null  float64\n",
            " 23  V23     284807 non-null  float64\n",
            " 24  V24     284807 non-null  float64\n",
            " 25  V25     284807 non-null  float64\n",
            " 26  V26     284807 non-null  float64\n",
            " 27  V27     284807 non-null  float64\n",
            " 28  V28     284807 non-null  float64\n",
            " 29  Amount  284807 non-null  float64\n",
            " 30  Class   284807 non-null  int64  \n",
            "dtypes: float64(30), int64(1)\n",
            "memory usage: 67.4 MB\n"
          ]
        }
      ]
    },
    {
      "cell_type": "code",
      "source": [
        "df.isnull().sum()"
      ],
      "metadata": {
        "colab": {
          "base_uri": "https://localhost:8080/"
        },
        "id": "TqvfDAHQ04Fn",
        "outputId": "c7915277-22ff-417b-af95-b8c1e7170f8a"
      },
      "execution_count": null,
      "outputs": [
        {
          "output_type": "execute_result",
          "data": {
            "text/plain": [
              "Time      0\n",
              "V1        0\n",
              "V2        0\n",
              "V3        0\n",
              "V4        0\n",
              "V5        0\n",
              "V6        0\n",
              "V7        0\n",
              "V8        0\n",
              "V9        0\n",
              "V10       0\n",
              "V11       0\n",
              "V12       0\n",
              "V13       0\n",
              "V14       0\n",
              "V15       0\n",
              "V16       0\n",
              "V17       0\n",
              "V18       0\n",
              "V19       0\n",
              "V20       0\n",
              "V21       0\n",
              "V22       0\n",
              "V23       0\n",
              "V24       0\n",
              "V25       0\n",
              "V26       0\n",
              "V27       0\n",
              "V28       0\n",
              "Amount    0\n",
              "Class     0\n",
              "dtype: int64"
            ]
          },
          "metadata": {},
          "execution_count": 5
        }
      ]
    },
    {
      "cell_type": "code",
      "source": [
        "df.dtypes"
      ],
      "metadata": {
        "colab": {
          "base_uri": "https://localhost:8080/"
        },
        "id": "7AtmkSpP1F4q",
        "outputId": "411c405e-f78e-48f7-8a26-7c7d296ee814"
      },
      "execution_count": null,
      "outputs": [
        {
          "output_type": "execute_result",
          "data": {
            "text/plain": [
              "Time      float64\n",
              "V1        float64\n",
              "V2        float64\n",
              "V3        float64\n",
              "V4        float64\n",
              "V5        float64\n",
              "V6        float64\n",
              "V7        float64\n",
              "V8        float64\n",
              "V9        float64\n",
              "V10       float64\n",
              "V11       float64\n",
              "V12       float64\n",
              "V13       float64\n",
              "V14       float64\n",
              "V15       float64\n",
              "V16       float64\n",
              "V17       float64\n",
              "V18       float64\n",
              "V19       float64\n",
              "V20       float64\n",
              "V21       float64\n",
              "V22       float64\n",
              "V23       float64\n",
              "V24       float64\n",
              "V25       float64\n",
              "V26       float64\n",
              "V27       float64\n",
              "V28       float64\n",
              "Amount    float64\n",
              "Class       int64\n",
              "dtype: object"
            ]
          },
          "metadata": {},
          "execution_count": 6
        }
      ]
    },
    {
      "cell_type": "code",
      "source": [
        "df.columns"
      ],
      "metadata": {
        "colab": {
          "base_uri": "https://localhost:8080/"
        },
        "id": "mzimUHFJ1KPZ",
        "outputId": "91ce626d-7e2f-4598-b668-75c926f09718"
      },
      "execution_count": null,
      "outputs": [
        {
          "output_type": "execute_result",
          "data": {
            "text/plain": [
              "Index(['Time', 'V1', 'V2', 'V3', 'V4', 'V5', 'V6', 'V7', 'V8', 'V9', 'V10',\n",
              "       'V11', 'V12', 'V13', 'V14', 'V15', 'V16', 'V17', 'V18', 'V19', 'V20',\n",
              "       'V21', 'V22', 'V23', 'V24', 'V25', 'V26', 'V27', 'V28', 'Amount',\n",
              "       'Class'],\n",
              "      dtype='object')"
            ]
          },
          "metadata": {},
          "execution_count": 7
        }
      ]
    },
    {
      "cell_type": "code",
      "source": [
        "sns.heatmap(df.isnull())\n",
        "plt.show()"
      ],
      "metadata": {
        "colab": {
          "base_uri": "https://localhost:8080/",
          "height": 287
        },
        "id": "TGCw0BhB1aYi",
        "outputId": "229429c1-ec9e-4536-cd62-7a975bc2dea1"
      },
      "execution_count": null,
      "outputs": [
        {
          "output_type": "display_data",
          "data": {
            "text/plain": [
              "<Figure size 432x288 with 2 Axes>"
            ],
            "image/png": "[encoded data removed]"
          },
          "metadata": {
            "needs_background": "light"
          }
        }
      ]
    },
    {
      "cell_type": "code",
      "source": [
        "#divide into input and output\n",
        "X=df.drop(\"Class\",axis=1)\n",
        "Y=df[\"Class\"]"
      ],
      "metadata": {
        "id": "KNFZVA2l2PhR"
      },
      "execution_count": null,
      "outputs": []
    },
    {
      "cell_type": "code",
      "source": [
        "#train_test_split \n",
        "from sklearn.model_selection import train_test_split\n",
        "X_train,X_test,Y_train,Y_test=train_test_split(X,Y,test_size=0.30,random_state=1)"
      ],
      "metadata": {
        "id": "gAwXzYWl3fwL"
      },
      "execution_count": null,
      "outputs": []
    },
    {
      "cell_type": "code",
      "source": [
        "#apply sacaling \n",
        "from sklearn.preprocessing import StandardScaler\n",
        "ss=StandardScaler()\n",
        "X_train=ss.fit_transform(X_train)\n",
        "X_test=ss.transform(X_test)"
      ],
      "metadata": {
        "id": "SD1TDxMYBbVw"
      },
      "execution_count": null,
      "outputs": []
    },
    {
      "cell_type": "code",
      "source": [
        "#create user defiend function \n",
        "def create_model(model):\n",
        "  model.fit(X_train,Y_train) #train the model \n",
        "  Y_pred=model.predict(X_test) #test the model \n",
        "  print(classification_report(Y_test,Y_pred))\n",
        "  print(confusion_matrix(Y_test,Y_pred))\n",
        "  return model"
      ],
      "metadata": {
        "id": "1OlEiFDt9Ks3"
      },
      "execution_count": null,
      "outputs": []
    },
    {
      "cell_type": "code",
      "source": [
        "from sklearn.metrics import classification_report,confusion_matrix"
      ],
      "metadata": {
        "id": "h_3YNEAk9WGG"
      },
      "execution_count": null,
      "outputs": []
    },
    {
      "cell_type": "code",
      "source": [
        "from sklearn.linear_model import LogisticRegression\n",
        "lr=LogisticRegression()\n",
        "lr=create_model(lr)"
      ],
      "metadata": {
        "colab": {
          "base_uri": "https://localhost:8080/"
        },
        "id": "6FpnvQOC6QgZ",
        "outputId": "e6497171-589b-44f6-b2dc-97e60ab50162"
      },
      "execution_count": null,
      "outputs": [
        {
          "output_type": "stream",
          "name": "stdout",
          "text": [
            "              precision    recall  f1-score   support\n",
            "\n",
            "           0       1.00      1.00      1.00     85308\n",
            "           1       0.84      0.58      0.68       135\n",
            "\n",
            "    accuracy                           1.00     85443\n",
            "   macro avg       0.92      0.79      0.84     85443\n",
            "weighted avg       1.00      1.00      1.00     85443\n",
            "\n",
            "[[85293    15]\n",
            " [   57    78]]\n"
          ]
        }
      ]
    },
    {
      "cell_type": "markdown",
      "source": [
        "#Sampling Technique"
      ],
      "metadata": {
        "id": "YrC_fRSS-H7h"
      }
    },
    {
      "cell_type": "code",
      "source": [
        "#check if the data is equally distribute or not \n",
        "df[\"Class\"].value_counts()"
      ],
      "metadata": {
        "colab": {
          "base_uri": "https://localhost:8080/"
        },
        "id": "NFA9-Ev27BYQ",
        "outputId": "b3535058-e959-4f20-812f-acc80cbb22fa"
      },
      "execution_count": null,
      "outputs": [
        {
          "output_type": "execute_result",
          "data": {
            "text/plain": [
              "0    284315\n",
              "1       492\n",
              "Name: Class, dtype: int64"
            ]
          },
          "metadata": {},
          "execution_count": 15
        }
      ]
    },
    {
      "cell_type": "code",
      "source": [
        "#Here  our data  is not equally distribute  so we  sampling  to make it equally distribute\n",
        "from imblearn.over_sampling import RandomOverSampler"
      ],
      "metadata": {
        "id": "okBv1sdHCHom"
      },
      "execution_count": null,
      "outputs": []
    },
    {
      "cell_type": "code",
      "source": [
        "ros=RandomOverSampler()"
      ],
      "metadata": {
        "id": "vKXvGBOuDuQT"
      },
      "execution_count": null,
      "outputs": []
    },
    {
      "cell_type": "code",
      "source": [
        "X_train_ros,Y_train_ros, =ros.fit_resample(X_train,Y_train)"
      ],
      "metadata": {
        "id": "Fl9rfBowD8eC"
      },
      "execution_count": null,
      "outputs": []
    },
    {
      "cell_type": "code",
      "source": [
        "Y_train_ros.value_counts()"
      ],
      "metadata": {
        "colab": {
          "base_uri": "https://localhost:8080/"
        },
        "id": "dfTl0r-Xv86e",
        "outputId": "a11d5629-d009-4060-a926-55d9be165c15"
      },
      "execution_count": null,
      "outputs": [
        {
          "output_type": "execute_result",
          "data": {
            "text/plain": [
              "0    199007\n",
              "1    199007\n",
              "Name: Class, dtype: int64"
            ]
          },
          "metadata": {},
          "execution_count": 19
        }
      ]
    },
    {
      "cell_type": "code",
      "source": [
        "X_test_ros,Y_test_ros, =ros.fit_resample(X_test,Y_test)"
      ],
      "metadata": {
        "id": "-ka9NKh4wlFP"
      },
      "execution_count": null,
      "outputs": []
    },
    {
      "cell_type": "code",
      "source": [
        "Y_test_ros.value_counts()"
      ],
      "metadata": {
        "colab": {
          "base_uri": "https://localhost:8080/"
        },
        "id": "0J-tUTm0xUdj",
        "outputId": "5a182fe9-c85f-4e41-8742-09efd2996b71"
      },
      "execution_count": null,
      "outputs": [
        {
          "output_type": "execute_result",
          "data": {
            "text/plain": [
              "0    85308\n",
              "1    85308\n",
              "Name: Class, dtype: int64"
            ]
          },
          "metadata": {},
          "execution_count": 21
        }
      ]
    },
    {
      "cell_type": "markdown",
      "source": [
        "logistic regression "
      ],
      "metadata": {
        "id": "K4hRTG0dzHx9"
      }
    },
    {
      "cell_type": "code",
      "source": [
        "#create user defiend function \n",
        "def create_model1(model):\n",
        "  model.fit(X_train_ros,Y_train_ros) #train the model \n",
        "  Y_pred=model.predict(X_test_ros) #test the model \n",
        "  print(classification_report(Y_test_ros,Y_pred))\n",
        "  print(confusion_matrix(Y_test_ros,Y_pred))\n",
        "  return model"
      ],
      "metadata": {
        "id": "3uY0NPjMrbcZ"
      },
      "execution_count": null,
      "outputs": []
    },
    {
      "cell_type": "code",
      "source": [
        "#create base line mode \n",
        "lr1=LogisticRegression()\n",
        "lr1=create_model1(lr1)"
      ],
      "metadata": {
        "colab": {
          "base_uri": "https://localhost:8080/"
        },
        "id": "Ji78ue7RyjW_",
        "outputId": "92fa4d20-ade8-47db-f8e8-424ceb287d51"
      },
      "execution_count": null,
      "outputs": [
        {
          "output_type": "stream",
          "name": "stdout",
          "text": [
            "              precision    recall  f1-score   support\n",
            "\n",
            "           0       0.90      0.98      0.94     85308\n",
            "           1       0.98      0.89      0.94     85308\n",
            "\n",
            "    accuracy                           0.94    170616\n",
            "   macro avg       0.94      0.94      0.94    170616\n",
            "weighted avg       0.94      0.94      0.94    170616\n",
            "\n",
            "[[83736  1572]\n",
            " [ 8972 76336]]\n"
          ]
        }
      ]
    },
    {
      "cell_type": "markdown",
      "source": [
        "#DECISION TREE"
      ],
      "metadata": {
        "id": "HpXAJP9F3w3K"
      }
    },
    {
      "cell_type": "markdown",
      "source": [
        "#decision tree with ginni index"
      ],
      "metadata": {
        "id": "Urc6_BHm5MVC"
      }
    },
    {
      "cell_type": "code",
      "source": [
        "#ginni index\n",
        "from sklearn.tree import DecisionTreeClassifier\n",
        "dt=DecisionTreeClassifier(random_state=1)\n",
        "dt=create_model1(dt)"
      ],
      "metadata": {
        "colab": {
          "base_uri": "https://localhost:8080/"
        },
        "id": "x-eSfOH63swh",
        "outputId": "e758459f-cc40-4139-e0b8-d0c5ed4d5a31"
      },
      "execution_count": null,
      "outputs": [
        {
          "output_type": "stream",
          "name": "stdout",
          "text": [
            "              precision    recall  f1-score   support\n",
            "\n",
            "           0       0.74      1.00      0.85     85308\n",
            "           1       1.00      0.66      0.79     85308\n",
            "\n",
            "    accuracy                           0.83    170616\n",
            "   macro avg       0.87      0.83      0.82    170616\n",
            "weighted avg       0.87      0.83      0.82    170616\n",
            "\n",
            "[[85277    31]\n",
            " [29190 56118]]\n"
          ]
        }
      ]
    },
    {
      "cell_type": "markdown",
      "source": [
        "#ginni index eith maxx deep"
      ],
      "metadata": {
        "id": "3smvYLBn2aOh"
      }
    },
    {
      "cell_type": "code",
      "source": [
        "dt1=DecisionTreeClassifier(random_state=1,max_depth=4)\n",
        "dt=create_model1(dt1)"
      ],
      "metadata": {
        "id": "UkqXXLUD7J64",
        "colab": {
          "base_uri": "https://localhost:8080/"
        },
        "outputId": "8e8a9bab-adc3-41d6-d486-220a56f6014c"
      },
      "execution_count": null,
      "outputs": [
        {
          "output_type": "stream",
          "name": "stdout",
          "text": [
            "              precision    recall  f1-score   support\n",
            "\n",
            "           0       0.86      0.98      0.92     85308\n",
            "           1       0.98      0.84      0.91     85308\n",
            "\n",
            "    accuracy                           0.91    170616\n",
            "   macro avg       0.92      0.91      0.91    170616\n",
            "weighted avg       0.92      0.91      0.91    170616\n",
            "\n",
            "[[84017  1291]\n",
            " [13424 71884]]\n"
          ]
        }
      ]
    },
    {
      "cell_type": "code",
      "source": [
        "dt1=DecisionTreeClassifier(random_state=1,max_depth=3)\n",
        "dt=create_model1(dt1)"
      ],
      "metadata": {
        "colab": {
          "base_uri": "https://localhost:8080/"
        },
        "id": "OhWGVdvu4iTs",
        "outputId": "90210a85-e3df-4156-d8c3-9b500f56ea07"
      },
      "execution_count": null,
      "outputs": [
        {
          "output_type": "stream",
          "name": "stdout",
          "text": [
            "              precision    recall  f1-score   support\n",
            "\n",
            "           0       0.85      0.99      0.91     85308\n",
            "           1       0.99      0.82      0.90     85308\n",
            "\n",
            "    accuracy                           0.91    170616\n",
            "   macro avg       0.92      0.91      0.90    170616\n",
            "weighted avg       0.92      0.91      0.90    170616\n",
            "\n",
            "[[84530   778]\n",
            " [15351 69957]]\n"
          ]
        }
      ]
    },
    {
      "cell_type": "markdown",
      "source": [
        "#ginni index with min sample leaf \n"
      ],
      "metadata": {
        "id": "fZeGx2Pd-Fhg"
      }
    },
    {
      "cell_type": "code",
      "source": [
        "dt1=DecisionTreeClassifier(random_state=1,min_samples_leaf=100)\n",
        "dt=create_model1(dt1)"
      ],
      "metadata": {
        "colab": {
          "base_uri": "https://localhost:8080/"
        },
        "id": "OE8CyWWD70Gu",
        "outputId": "84c0fc6f-e0b4-4e0c-ca3c-387b7674a0f7"
      },
      "execution_count": null,
      "outputs": [
        {
          "output_type": "stream",
          "name": "stdout",
          "text": [
            "              precision    recall  f1-score   support\n",
            "\n",
            "           0       0.83      1.00      0.90     85308\n",
            "           1       0.99      0.79      0.88     85308\n",
            "\n",
            "    accuracy                           0.89    170616\n",
            "   macro avg       0.91      0.89      0.89    170616\n",
            "weighted avg       0.91      0.89      0.89    170616\n",
            "\n",
            "[[84901   407]\n",
            " [17874 67434]]\n"
          ]
        }
      ]
    },
    {
      "cell_type": "markdown",
      "source": [
        "#decission tree with entropy"
      ],
      "metadata": {
        "id": "qDGgQYUMDzFK"
      }
    },
    {
      "cell_type": "code",
      "source": [
        "#decission tree using entropy \n",
        "dt1=DecisionTreeClassifier(random_state=1,criterion='entropy',max_depth=3)\n",
        "dt=create_model1(dt1)"
      ],
      "metadata": {
        "colab": {
          "base_uri": "https://localhost:8080/"
        },
        "id": "KlwEWVFKCXSz",
        "outputId": "5a714b95-bd27-4bf9-dbac-65fafa03d2c0"
      },
      "execution_count": null,
      "outputs": [
        {
          "output_type": "stream",
          "name": "stdout",
          "text": [
            "              precision    recall  f1-score   support\n",
            "\n",
            "           0       0.87      0.97      0.92     85308\n",
            "           1       0.97      0.85      0.90     85308\n",
            "\n",
            "    accuracy                           0.91    170616\n",
            "   macro avg       0.92      0.91      0.91    170616\n",
            "weighted avg       0.92      0.91      0.91    170616\n",
            "\n",
            "[[82844  2464]\n",
            " [12823 72485]]\n"
          ]
        }
      ]
    },
    {
      "cell_type": "markdown",
      "source": [
        "#ENTROPY WITH MIN SAMPLE LEAF"
      ],
      "metadata": {
        "id": "UXB8oUs7GZ3m"
      }
    },
    {
      "cell_type": "code",
      "source": [
        "dt1=DecisionTreeClassifier(random_state=1,criterion='entropy',min_samples_leaf=100)\n",
        "dt=create_model1(dt1)"
      ],
      "metadata": {
        "colab": {
          "base_uri": "https://localhost:8080/"
        },
        "id": "LMVgl2kjGHev",
        "outputId": "5de93278-298b-4e86-dac4-b193c71a1205"
      },
      "execution_count": null,
      "outputs": [
        {
          "output_type": "stream",
          "name": "stdout",
          "text": [
            "              precision    recall  f1-score   support\n",
            "\n",
            "           0       0.83      1.00      0.91     85308\n",
            "           1       1.00      0.80      0.89     85308\n",
            "\n",
            "    accuracy                           0.90    170616\n",
            "   macro avg       0.91      0.90      0.90    170616\n",
            "weighted avg       0.91      0.90      0.90    170616\n",
            "\n",
            "[[84978   330]\n",
            " [17194 68114]]\n"
          ]
        }
      ]
    },
    {
      "cell_type": "code",
      "source": [
        "dt1=DecisionTreeClassifier(random_state=1,criterion='entropy',min_samples_leaf=90)\n",
        "dt=create_model1(dt1)"
      ],
      "metadata": {
        "colab": {
          "base_uri": "https://localhost:8080/"
        },
        "id": "fLrW3TuJG9N6",
        "outputId": "392a98f4-b676-4d25-d44a-aa61733d8b6f"
      },
      "execution_count": null,
      "outputs": [
        {
          "output_type": "stream",
          "name": "stdout",
          "text": [
            "              precision    recall  f1-score   support\n",
            "\n",
            "           0       0.83      1.00      0.91     85308\n",
            "           1       1.00      0.80      0.89     85308\n",
            "\n",
            "    accuracy                           0.90    170616\n",
            "   macro avg       0.91      0.90      0.90    170616\n",
            "weighted avg       0.91      0.90      0.90    170616\n",
            "\n",
            "[[85015   293]\n",
            " [17194 68114]]\n"
          ]
        }
      ]
    },
    {
      "cell_type": "code",
      "source": [
        "dt1=DecisionTreeClassifier(random_state=1,criterion='entropy',min_samples_leaf=20)\n",
        "dt=create_model1(dt1)"
      ],
      "metadata": {
        "colab": {
          "base_uri": "https://localhost:8080/"
        },
        "id": "ZcKKmHnNHZbC",
        "outputId": "ac04b9f5-20b0-4d19-d3b9-84b706ee764c"
      },
      "execution_count": null,
      "outputs": [
        {
          "output_type": "stream",
          "name": "stdout",
          "text": [
            "              precision    recall  f1-score   support\n",
            "\n",
            "           0       0.83      1.00      0.90     85308\n",
            "           1       1.00      0.79      0.88     85308\n",
            "\n",
            "    accuracy                           0.90    170616\n",
            "   macro avg       0.91      0.90      0.89    170616\n",
            "weighted avg       0.91      0.90      0.89    170616\n",
            "\n",
            "[[85214    94]\n",
            " [17807 67501]]\n"
          ]
        }
      ]
    },
    {
      "cell_type": "markdown",
      "source": [
        "#RANDOM FOREST CLASSIFIER "
      ],
      "metadata": {
        "id": "WF1YLZIeIJPl"
      }
    },
    {
      "cell_type": "code",
      "source": [
        "#Random forest tree using \n",
        "from sklearn.ensemble import RandomForestClassifier\n",
        "rf=RandomForestClassifier()\n",
        "rf=create_model1(rf)"
      ],
      "metadata": {
        "colab": {
          "base_uri": "https://localhost:8080/"
        },
        "id": "7xl-vJ4NHtry",
        "outputId": "e200eab3-82e3-4c37-b823-1314b9266b2b"
      },
      "execution_count": null,
      "outputs": [
        {
          "output_type": "stream",
          "name": "stdout",
          "text": [
            "              precision    recall  f1-score   support\n",
            "\n",
            "           0       0.82      1.00      0.90     85308\n",
            "           1       1.00      0.78      0.87     85308\n",
            "\n",
            "    accuracy                           0.89    170616\n",
            "   macro avg       0.91      0.89      0.89    170616\n",
            "weighted avg       0.91      0.89      0.89    170616\n",
            "\n",
            "[[85299     9]\n",
            " [19145 66163]]\n"
          ]
        }
      ]
    },
    {
      "cell_type": "code",
      "source": [
        "#using entropy \n",
        "dt1=RandomForestClassifier(random_state=1,criterion='entropy',n_estimators=100,max_features=4)\n",
        "dt=create_model1(dt1)"
      ],
      "metadata": {
        "id": "BYrkkQaDI_tm",
        "colab": {
          "base_uri": "https://localhost:8080/"
        },
        "outputId": "ee63cf96-d6c3-48af-f9b1-d335f5eb6f7b"
      },
      "execution_count": null,
      "outputs": [
        {
          "output_type": "stream",
          "name": "stdout",
          "text": [
            "              precision    recall  f1-score   support\n",
            "\n",
            "           0       0.81      1.00      0.90     85308\n",
            "           1       1.00      0.77      0.87     85308\n",
            "\n",
            "    accuracy                           0.88    170616\n",
            "   macro avg       0.91      0.88      0.88    170616\n",
            "weighted avg       0.91      0.88      0.88    170616\n",
            "\n",
            "[[85300     8]\n",
            " [19843 65465]]\n"
          ]
        }
      ]
    },
    {
      "cell_type": "code",
      "source": [
        "#show the information gain of all input  feature \n",
        "IG=dt.feature_importances_\n",
        "I=X.columns\n",
        "d={\"Input columns\":I,\"Inforamtion Gain\":IG}\n",
        "#converts into dataframe \n",
        "F=pd.DataFrame(d)\n",
        "F.sort_values(\"Inforamtion Gain\",ascending=False,ignore_index=True) #descending order "
      ],
      "metadata": {
        "colab": {
          "base_uri": "https://localhost:8080/",
          "height": 990
        },
        "id": "D9pOdTvv_rv2",
        "outputId": "15ab18ab-b8e8-4578-f1e0-a18a3fcb5e50"
      },
      "execution_count": null,
      "outputs": [
        {
          "output_type": "execute_result",
          "data": {
            "text/plain": [
              "   Input columns  Inforamtion Gain\n",
              "0            V14          0.171855\n",
              "1            V10          0.113497\n",
              "2             V4          0.098917\n",
              "3            V17          0.092949\n",
              "4            V11          0.075904\n",
              "5            V12          0.074606\n",
              "6            V16          0.053888\n",
              "7             V3          0.035481\n",
              "8             V7          0.031092\n",
              "9             V2          0.025292\n",
              "10           V21          0.018558\n",
              "11        Amount          0.018164\n",
              "12            V6          0.017388\n",
              "13            V8          0.016427\n",
              "14            V1          0.016254\n",
              "15           V18          0.013690\n",
              "16           V20          0.013612\n",
              "17           V19          0.013030\n",
              "18            V9          0.011814\n",
              "19           V28          0.010596\n",
              "20            V5          0.010317\n",
              "21           V13          0.009325\n",
              "22          Time          0.008587\n",
              "23           V26          0.007924\n",
              "24           V23          0.007224\n",
              "25           V27          0.007177\n",
              "26           V15          0.007000\n",
              "27           V22          0.006921\n",
              "28           V25          0.006911\n",
              "29           V24          0.005598"
            ],
            "text/html": [
              "\n",
              "  <div id=\"df-ecffccbe-4afd-4fd5-8a0e-b0945a62715f\">\n",
              "    <div class=\"colab-df-container\">\n",
              "      <div>\n",
              "<style scoped>\n",
              "    .dataframe tbody tr th:only-of-type {\n",
              "        vertical-align: middle;\n",
              "    }\n",
              "\n",
              "    .dataframe tbody tr th {\n",
              "        vertical-align: top;\n",
              "    }\n",
              "\n",
              "    .dataframe thead th {\n",
              "        text-align: right;\n",
              "    }\n",
              "</style>\n",
              "<table border=\"1\" class=\"dataframe\">\n",
              "  <thead>\n",
              "    <tr style=\"text-align: right;\">\n",
              "      <th></th>\n",
              "      <th>Input columns</th>\n",
              "      <th>Inforamtion Gain</th>\n",
              "    </tr>\n",
              "  </thead>\n",
              "  <tbody>\n",
              "    <tr>\n",
              "      <th>0</th>\n",
              "      <td>V14</td>\n",
              "      <td>0.171855</td>\n",
              "    </tr>\n",
              "    <tr>\n",
              "      <th>1</th>\n",
              "      <td>V10</td>\n",
              "      <td>0.113497</td>\n",
              "    </tr>\n",
              "    <tr>\n",
              "      <th>2</th>\n",
              "      <td>V4</td>\n",
              "      <td>0.098917</td>\n",
              "    </tr>\n",
              "    <tr>\n",
              "      <th>3</th>\n",
              "      <td>V17</td>\n",
              "      <td>0.092949</td>\n",
              "    </tr>\n",
              "    <tr>\n",
              "      <th>4</th>\n",
              "      <td>V11</td>\n",
              "      <td>0.075904</td>\n",
              "    </tr>\n",
              "    <tr>\n",
              "      <th>5</th>\n",
              "      <td>V12</td>\n",
              "      <td>0.074606</td>\n",
              "    </tr>\n",
              "    <tr>\n",
              "      <th>6</th>\n",
              "      <td>V16</td>\n",
              "      <td>0.053888</td>\n",
              "    </tr>\n",
              "    <tr>\n",
              "      <th>7</th>\n",
              "      <td>V3</td>\n",
              "      <td>0.035481</td>\n",
              "    </tr>\n",
              "    <tr>\n",
              "      <th>8</th>\n",
              "      <td>V7</td>\n",
              "      <td>0.031092</td>\n",
              "    </tr>\n",
              "    <tr>\n",
              "      <th>9</th>\n",
              "      <td>V2</td>\n",
              "      <td>0.025292</td>\n",
              "    </tr>\n",
              "    <tr>\n",
              "      <th>10</th>\n",
              "      <td>V21</td>\n",
              "      <td>0.018558</td>\n",
              "    </tr>\n",
              "    <tr>\n",
              "      <th>11</th>\n",
              "      <td>Amount</td>\n",
              "      <td>0.018164</td>\n",
              "    </tr>\n",
              "    <tr>\n",
              "      <th>12</th>\n",
              "      <td>V6</td>\n",
              "      <td>0.017388</td>\n",
              "    </tr>\n",
              "    <tr>\n",
              "      <th>13</th>\n",
              "      <td>V8</td>\n",
              "      <td>0.016427</td>\n",
              "    </tr>\n",
              "    <tr>\n",
              "      <th>14</th>\n",
              "      <td>V1</td>\n",
              "      <td>0.016254</td>\n",
              "    </tr>\n",
              "    <tr>\n",
              "      <th>15</th>\n",
              "      <td>V18</td>\n",
              "      <td>0.013690</td>\n",
              "    </tr>\n",
              "    <tr>\n",
              "      <th>16</th>\n",
              "      <td>V20</td>\n",
              "      <td>0.013612</td>\n",
              "    </tr>\n",
              "    <tr>\n",
              "      <th>17</th>\n",
              "      <td>V19</td>\n",
              "      <td>0.013030</td>\n",
              "    </tr>\n",
              "    <tr>\n",
              "      <th>18</th>\n",
              "      <td>V9</td>\n",
              "      <td>0.011814</td>\n",
              "    </tr>\n",
              "    <tr>\n",
              "      <th>19</th>\n",
              "      <td>V28</td>\n",
              "      <td>0.010596</td>\n",
              "    </tr>\n",
              "    <tr>\n",
              "      <th>20</th>\n",
              "      <td>V5</td>\n",
              "      <td>0.010317</td>\n",
              "    </tr>\n",
              "    <tr>\n",
              "      <th>21</th>\n",
              "      <td>V13</td>\n",
              "      <td>0.009325</td>\n",
              "    </tr>\n",
              "    <tr>\n",
              "      <th>22</th>\n",
              "      <td>Time</td>\n",
              "      <td>0.008587</td>\n",
              "    </tr>\n",
              "    <tr>\n",
              "      <th>23</th>\n",
              "      <td>V26</td>\n",
              "      <td>0.007924</td>\n",
              "    </tr>\n",
              "    <tr>\n",
              "      <th>24</th>\n",
              "      <td>V23</td>\n",
              "      <td>0.007224</td>\n",
              "    </tr>\n",
              "    <tr>\n",
              "      <th>25</th>\n",
              "      <td>V27</td>\n",
              "      <td>0.007177</td>\n",
              "    </tr>\n",
              "    <tr>\n",
              "      <th>26</th>\n",
              "      <td>V15</td>\n",
              "      <td>0.007000</td>\n",
              "    </tr>\n",
              "    <tr>\n",
              "      <th>27</th>\n",
              "      <td>V22</td>\n",
              "      <td>0.006921</td>\n",
              "    </tr>\n",
              "    <tr>\n",
              "      <th>28</th>\n",
              "      <td>V25</td>\n",
              "      <td>0.006911</td>\n",
              "    </tr>\n",
              "    <tr>\n",
              "      <th>29</th>\n",
              "      <td>V24</td>\n",
              "      <td>0.005598</td>\n",
              "    </tr>\n",
              "  </tbody>\n",
              "</table>\n",
              "</div>\n",
              "      <button class=\"colab-df-convert\" onclick=\"convertToInteractive('df-ecffccbe-4afd-4fd5-8a0e-b0945a62715f')\"\n",
              "              title=\"Convert this dataframe to an interactive table.\"\n",
              "              style=\"display:none;\">\n",
              "        \n",
              "  <svg xmlns=\"http://www.w3.org/2000/svg\" height=\"24px\"viewBox=\"0 0 24 24\"\n",
              "       width=\"24px\">\n",
              "    <path d=\"M0 0h24v24H0V0z\" fill=\"none\"/>\n",
              "    <path d=\"M18.56 5.44l.94 2.06.94-2.06 2.06-.94-2.06-.94-.94-2.06-.94 2.06-2.06.94zm-11 1L8.5 8.5l.94-2.06 2.06-.94-2.06-.94L8.5 2.5l-.94 2.06-2.06.94zm10 10l.94 2.06.94-2.06 2.06-.94-2.06-.94-.94-2.06-.94 2.06-2.06.94z\"/><path d=\"M17.41 7.96l-1.37-1.37c-.4-.4-.92-.59-1.43-.59-.52 0-1.04.2-1.43.59L10.3 9.45l-7.72 7.72c-.78.78-.78 2.05 0 2.83L4 21.41c.39.39.9.59 1.41.59.51 0 1.02-.2 1.41-.59l7.78-7.78 2.81-2.81c.8-.78.8-2.07 0-2.86zM5.41 20L4 18.59l7.72-7.72 1.47 1.35L5.41 20z\"/>\n",
              "  </svg>\n",
              "      </button>\n",
              "      \n",
              "  <style>\n",
              "    .colab-df-container {\n",
              "      display:flex;\n",
              "      flex-wrap:wrap;\n",
              "      gap: 12px;\n",
              "    }\n",
              "\n",
              "    .colab-df-convert {\n",
              "      background-color: #E8F0FE;\n",
              "      border: none;\n",
              "      border-radius: 50%;\n",
              "      cursor: pointer;\n",
              "      display: none;\n",
              "      fill: #1967D2;\n",
              "      height: 32px;\n",
              "      padding: 0 0 0 0;\n",
              "      width: 32px;\n",
              "    }\n",
              "\n",
              "    .colab-df-convert:hover {\n",
              "      background-color: #E2EBFA;\n",
              "      box-shadow: 0px 1px 2px rgba(60, 64, 67, 0.3), 0px 1px 3px 1px rgba(60, 64, 67, 0.15);\n",
              "      fill: #174EA6;\n",
              "    }\n",
              "\n",
              "    [theme=dark] .colab-df-convert {\n",
              "      background-color: #3B4455;\n",
              "      fill: #D2E3FC;\n",
              "    }\n",
              "\n",
              "    [theme=dark] .colab-df-convert:hover {\n",
              "      background-color: #434B5C;\n",
              "      box-shadow: 0px 1px 3px 1px rgba(0, 0, 0, 0.15);\n",
              "      filter: drop-shadow(0px 1px 2px rgba(0, 0, 0, 0.3));\n",
              "      fill: #FFFFFF;\n",
              "    }\n",
              "  </style>\n",
              "\n",
              "      <script>\n",
              "        const buttonEl =\n",
              "          document.querySelector('#df-ecffccbe-4afd-4fd5-8a0e-b0945a62715f button.colab-df-convert');\n",
              "        buttonEl.style.display =\n",
              "          google.colab.kernel.accessAllowed ? 'block' : 'none';\n",
              "\n",
              "        async function convertToInteractive(key) {\n",
              "          const element = document.querySelector('#df-ecffccbe-4afd-4fd5-8a0e-b0945a62715f');\n",
              "          const dataTable =\n",
              "            await google.colab.kernel.invokeFunction('convertToInteractive',\n",
              "                                                     [key], {});\n",
              "          if (!dataTable) return;\n",
              "\n",
              "          const docLinkHtml = 'Like what you see? Visit the ' +\n",
              "            '<a target=\"_blank\" href=https://colab.research.google.com/notebooks/data_table.ipynb>data table notebook</a>'\n",
              "            + ' to learn more about interactive tables.';\n",
              "          element.innerHTML = '';\n",
              "          dataTable['output_type'] = 'display_data';\n",
              "          await google.colab.output.renderOutput(dataTable, element);\n",
              "          const docLink = document.createElement('div');\n",
              "          docLink.innerHTML = docLinkHtml;\n",
              "          element.appendChild(docLink);\n",
              "        }\n",
              "      </script>\n",
              "    </div>\n",
              "  </div>\n",
              "  "
            ]
          },
          "metadata": {},
          "execution_count": 34
        }
      ]
    },
    {
      "cell_type": "markdown",
      "source": [
        "#BOOSTING"
      ],
      "metadata": {
        "id": "BdpHaIyxAkP0"
      }
    },
    {
      "cell_type": "markdown",
      "source": [
        "ADA BOOSTING "
      ],
      "metadata": {
        "id": "g6VnAJcDAsft"
      }
    },
    {
      "cell_type": "code",
      "source": [
        "#Using ADA Boosting\n",
        "from sklearn.ensemble import AdaBoostClassifier\n",
        "ada=AdaBoostClassifier(n_estimators=50,random_state=1)\n",
        "ada=create_model1(ada)"
      ],
      "metadata": {
        "colab": {
          "base_uri": "https://localhost:8080/"
        },
        "id": "0PtVTX0GAbmY",
        "outputId": "1bda24ac-f313-42e3-d58b-142b5ec660b0"
      },
      "execution_count": null,
      "outputs": [
        {
          "output_type": "stream",
          "name": "stdout",
          "text": [
            "              precision    recall  f1-score   support\n",
            "\n",
            "           0       0.87      0.99      0.93     85308\n",
            "           1       0.98      0.86      0.92     85308\n",
            "\n",
            "    accuracy                           0.92    170616\n",
            "   macro avg       0.93      0.92      0.92    170616\n",
            "weighted avg       0.93      0.92      0.92    170616\n",
            "\n",
            "[[84077  1231]\n",
            " [12087 73221]]\n"
          ]
        }
      ]
    },
    {
      "cell_type": "markdown",
      "source": [
        "Gradient boosting "
      ],
      "metadata": {
        "id": "MvwRVnbLDeCe"
      }
    },
    {
      "cell_type": "code",
      "source": [
        "from scipy.sparse.construct import random\n",
        "#using gradient boosting \n",
        "from sklearn.ensemble import GradientBoostingClassifier\n",
        "gb=GradientBoostingClassifier(n_estimators=50,random_state=1)\n",
        "gb=create_model1(gb)"
      ],
      "metadata": {
        "colab": {
          "base_uri": "https://localhost:8080/"
        },
        "id": "C7kiZaDmB8L_",
        "outputId": "98bc6c54-983c-4eb6-efd4-958c8203e138"
      },
      "execution_count": null,
      "outputs": [
        {
          "output_type": "stream",
          "name": "stdout",
          "text": [
            "              precision    recall  f1-score   support\n",
            "\n",
            "           0       0.89      0.99      0.94     85308\n",
            "           1       0.99      0.88      0.93     85308\n",
            "\n",
            "    accuracy                           0.94    170616\n",
            "   macro avg       0.94      0.94      0.94    170616\n",
            "weighted avg       0.94      0.94      0.94    170616\n",
            "\n",
            "[[84577   731]\n",
            " [10188 75120]]\n"
          ]
        }
      ]
    },
    {
      "cell_type": "markdown",
      "source": [
        "EXTREME GRADIENT BOOSTING "
      ],
      "metadata": {
        "id": "1UE3ibGLFUeD"
      }
    },
    {
      "cell_type": "code",
      "source": [
        "#Using extreme gradient boosting \n",
        "from xgboost import XGBClassifier\n",
        "xg=GradientBoostingClassifier(n_estimators=50,random_state=1)\n",
        "xg=create_model1(xg)"
      ],
      "metadata": {
        "id": "aXFEv2OFEnYf",
        "colab": {
          "base_uri": "https://localhost:8080/"
        },
        "outputId": "4c76b6b2-5228-411c-844d-c7fdfe648155"
      },
      "execution_count": null,
      "outputs": [
        {
          "output_type": "stream",
          "name": "stdout",
          "text": [
            "              precision    recall  f1-score   support\n",
            "\n",
            "           0       0.89      0.99      0.94     85308\n",
            "           1       0.99      0.88      0.93     85308\n",
            "\n",
            "    accuracy                           0.94    170616\n",
            "   macro avg       0.94      0.94      0.94    170616\n",
            "weighted avg       0.94      0.94      0.94    170616\n",
            "\n",
            "[[84577   731]\n",
            " [10188 75120]]\n"
          ]
        }
      ]
    },
    {
      "cell_type": "markdown",
      "source": [
        "#Support Vector Machine(SVM)\n",
        "\n",
        "---\n",
        "\n"
      ],
      "metadata": {
        "id": "9CW5Ki8gIln1"
      }
    },
    {
      "cell_type": "markdown",
      "source": [
        "Linear SVC\n"
      ],
      "metadata": {
        "id": "C9NE-5dLK_gP"
      }
    },
    {
      "cell_type": "code",
      "source": [
        "#USING LINEAR SVC\n",
        "from sklearn.svm import LinearSVC\n",
        "svc=LinearSVC(random_state=1)\n",
        "svc=create_model1(svc)"
      ],
      "metadata": {
        "colab": {
          "base_uri": "https://localhost:8080/"
        },
        "id": "GcH2MgPLK-9R",
        "outputId": "a1e02121-61eb-49da-ea5a-7fb359921b6a"
      },
      "execution_count": null,
      "outputs": [
        {
          "output_type": "stream",
          "name": "stdout",
          "text": [
            "              precision    recall  f1-score   support\n",
            "\n",
            "           0       0.89      0.98      0.94     85308\n",
            "           1       0.98      0.88      0.93     85308\n",
            "\n",
            "    accuracy                           0.93    170616\n",
            "   macro avg       0.94      0.93      0.93    170616\n",
            "weighted avg       0.94      0.93      0.93    170616\n",
            "\n",
            "[[83922  1386]\n",
            " [10201 75107]]\n"
          ]
        }
      ]
    },
    {
      "cell_type": "code",
      "source": [
        "svc=LinearSVC(random_state=1,C=0.8)\n",
        "svc=create_model1(svc)"
      ],
      "metadata": {
        "id": "3F4AXoP9IjXU",
        "colab": {
          "base_uri": "https://localhost:8080/"
        },
        "outputId": "bccaf137-038d-4f5f-c2dc-398f4c527943"
      },
      "execution_count": null,
      "outputs": [
        {
          "output_type": "stream",
          "name": "stdout",
          "text": [
            "              precision    recall  f1-score   support\n",
            "\n",
            "           0       0.89      0.98      0.94     85308\n",
            "           1       0.98      0.88      0.93     85308\n",
            "\n",
            "    accuracy                           0.93    170616\n",
            "   macro avg       0.94      0.93      0.93    170616\n",
            "weighted avg       0.94      0.93      0.93    170616\n",
            "\n",
            "[[83884  1424]\n",
            " [10201 75107]]\n"
          ]
        }
      ]
    },
    {
      "cell_type": "code",
      "source": [
        "svc=LinearSVC(random_state=1,C=0.9) \n",
        "svc=create_model1(svc)\n"
      ],
      "metadata": {
        "colab": {
          "base_uri": "https://localhost:8080/"
        },
        "id": "1uXC3yly14ot",
        "outputId": "ea84cc71-0d43-4b4e-8f79-d95c7611eac9"
      },
      "execution_count": null,
      "outputs": [
        {
          "output_type": "stream",
          "name": "stdout",
          "text": [
            "              precision    recall  f1-score   support\n",
            "\n",
            "           0       0.90      0.98      0.94     85308\n",
            "           1       0.98      0.89      0.93     85308\n",
            "\n",
            "    accuracy                           0.94    170616\n",
            "   macro avg       0.94      0.94      0.94    170616\n",
            "weighted avg       0.94      0.94      0.94    170616\n",
            "\n",
            "[[83871  1437]\n",
            " [ 9570 75738]]\n"
          ]
        }
      ]
    },
    {
      "cell_type": "markdown",
      "source": [
        "#Polynomial kernel function"
      ],
      "metadata": {
        "id": "ADxxmLUh3WZt"
      }
    },
    {
      "cell_type": "code",
      "source": [
        "#polynomial kernel function\n",
        "from sklearn.svm import SVC \n",
        "svc=SVC(random_state=1,kernel=\"poly\") \n",
        "svc=create_model1(svc)"
      ],
      "metadata": {
        "id": "_uk1coa73FT7"
      },
      "execution_count": null,
      "outputs": []
    },
    {
      "cell_type": "markdown",
      "source": [
        "#SVC Radial Basis Kernel Function"
      ],
      "metadata": {
        "id": "p9FYicyA0SSc"
      }
    },
    {
      "cell_type": "code",
      "source": [
        "svr=SVC(random_state=1,kernel='rbf')\n",
        "svr=create_model(svr)"
      ],
      "metadata": {
        "id": "w5Bg1_w60JBs"
      },
      "execution_count": null,
      "outputs": []
    },
    {
      "cell_type": "markdown",
      "source": [
        "#Applying Model - KNeighborsClassifier"
      ],
      "metadata": {
        "id": "Fm-A9QJc0cKs"
      }
    },
    {
      "cell_type": "code",
      "source": [
        "from sklearn.neighbors import KNeighborsClassifier\n",
        "knc=KNeighborsClassifier(n_neighbors=5,metric='minkowski',p=2)\n",
        "knc=create_model(knc) "
      ],
      "metadata": {
        "id": "Ok-S18K60XNT"
      },
      "execution_count": null,
      "outputs": []
    },
    {
      "cell_type": "markdown",
      "source": [
        "#Conclusion"
      ],
      "metadata": {
        "id": "sDjw_Gil01u0"
      }
    },
    {
      "cell_type": "markdown",
      "source": [
        " We can say that Support Vector Machine giving the best Result of 90% predict."
      ],
      "metadata": {
        "id": "5CJChsf009or"
      }
    }
  ]
}